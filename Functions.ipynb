{
 "cells": [
  {
   "cell_type": "markdown",
   "id": "3ae822d3",
   "metadata": {},
   "source": [
    "## Les fonctions dans python (et d'autres trucs)"
   ]
  },
  {
   "cell_type": "markdown",
   "id": "546c7430",
   "metadata": {},
   "source": [
    "Dans python, on a souvent besoin de réutiliser un bout de code plusieurs fois, de changer des valeurs, des paramètres, d'effectuer des taches redondantes (ce pourquoi on a créer les ordinateurs quoi) et donc pour ça on utilise des fonctions."
   ]
  },
  {
   "cell_type": "markdown",
   "id": "684ec2b2",
   "metadata": {},
   "source": [
    "La syntaxe de base d'une fonction c'est :\n",
    "\n",
    "- Pour la création :\n",
    "def nomdelafonction(paramètres):\n",
    "    contenu de la fonction\n",
    "    \n",
    "- Pour l'utilisation (de notre fonction où d'une préexistente) :\n",
    "nomdelafonction(paramètres)\n",
    "\n",
    "le nom de la fonction est celui qui sera associé à votre fonction nouvellement créé\n",
    "les paramètres (il peut ne pas y en avoir) son des options que vous voulez rentrer pour la fonction"
   ]
  },
  {
   "cell_type": "code",
   "execution_count": 1,
   "id": "11fa6338",
   "metadata": {},
   "outputs": [
    {
     "name": "stdout",
     "output_type": "stream",
     "text": [
      "Bonjour Pierre !\n",
      "Bonjour q6sd78q9b4 !\n"
     ]
    }
   ],
   "source": [
    "#Exemple :\n",
    "\n",
    "def direPrénom(prénom):\n",
    "    print(\"Bonjour \" + prénom + \" !\") # print est une fonction déjà dans python, qui permet d'afficher des choses\n",
    "    \n",
    "# Ici cette fonction prends en paramètre qqchose, et va simplement l'afficher dans une phrase\n",
    "\n",
    "direPrénom(\"Pierre\") # Pierre est un paramètre de la fonction pour cet appel spécifique (aussi appelé argument)\n",
    "\n",
    "direPrénom(\"q6sd78q9b4\") # Pour montrer que ce n'est pas parce que vous avez mis une appelation spécifique (ici prénom), que\n",
    "# votre fonction va obligatoirement l'avoir."
   ]
  },
  {
   "cell_type": "markdown",
   "id": "ef3c5d34",
   "metadata": {},
   "source": [
    "### Return\n",
    "\n",
    "Une fonction est souvent utilisé pour retourner quelque chose **dans le programme** (pas à l'utilisateur)\n",
    "Pour cela on rajoute **return** dans notre fonction.\n",
    "   "
   ]
  },
  {
   "cell_type": "code",
   "execution_count": 3,
   "id": "095a6d23",
   "metadata": {},
   "outputs": [
    {
     "name": "stdout",
     "output_type": "stream",
     "text": [
      "2.5\n"
     ]
    }
   ],
   "source": [
    "# Par exemple :\n",
    "\n",
    "def moitié(nombre):\n",
    "    résultat = nombre / 2\n",
    "    return résultat\n",
    "    \n",
    "#Quand on va l'appeler :\n",
    "\n",
    "moitié(5) # Rien ne va s'afficher\n",
    "\n",
    "# Mais si on l'assigne à une variable :\n",
    "\n",
    "x = moitié(5)\n",
    "\n",
    "# alors la variable x aura la valeur 2.5 (le résultat de cet appel)\n",
    "print(x)\n",
    "\n",
    "# PS : Autre syntaxe possible :\n",
    "\n",
    "def moitié(nombre):\n",
    "    return nombre/2"
   ]
  },
  {
   "cell_type": "markdown",
   "id": "42c41c20",
   "metadata": {},
   "source": [
    "### Optionnel\n",
    "\n",
    "Il y a 2 types d'arguments (utile pour vos fonctions, mais surtout pour comprendre celles déjà intégrées):\n",
    "\n",
    "- les arguments obligatoires (positionnels)\n",
    "- les arguments optionnels (à mot-clé)\n",
    "\n",
    "Imaginons une fonction *graph* pour tracer un graphique :\n",
    "\n",
    "def graph(x, y, color=\"red\"):  \n",
    "    #un programme compliqué qui trace une fonction\n",
    "    \n",
    "Ici : x et y sont des arguments obligatoires (sans eux la fonction retournera une erreur) et doivent être donnés dans l'ordre,\n",
    "sinon le programme fera des choses non-voulues\n",
    "Color est un argument optionnel, si on ne mentionne pas la fonction marchera très bien et prendra comme valeur par défaut \"red\"  \n",
    "Pour le changer, il faut écrire color (le mot-clé) = \"black\" par exemple"
   ]
  },
  {
   "cell_type": "code",
   "execution_count": 13,
   "id": "3b34c279",
   "metadata": {},
   "outputs": [
    {
     "data": {
      "image/png": "[encoded data removed]",
      "text/plain": [
       "<Figure size 432x288 with 1 Axes>"
      ]
     },
     "metadata": {
      "needs_background": "light"
     },
     "output_type": "display_data"
    },
    {
     "data": {
      "image/png": "[encoded data removed]",
      "text/plain": [
       "<Figure size 432x288 with 1 Axes>"
      ]
     },
     "metadata": {
      "needs_background": "light"
     },
     "output_type": "display_data"
    }
   ],
   "source": [
    "# Exemples : \n",
    "import matplotlib.pyplot as plt # Juste l'importation d'une bibliothèque , un \"pack\" de fonctions, ici pour des graphiques\n",
    "\n",
    "quantité = [0, 1, 4, 6, 7, 9, 10, 13]\n",
    "valeur = [0, 4, 8, 12, 10, 15, 16, 22]\n",
    "\n",
    "plt.plot(quantité, valeur, color=\"red\") #Cette fonction est similaire à la notre d'avant\n",
    "plt.show()\n",
    "plt.plot(quantité, valeur) # On voit que la valeur de color par défaut est \"blue\"\n",
    "plt.show()"
   ]
  },
  {
   "cell_type": "markdown",
   "id": "41ec1ba3",
   "metadata": {},
   "source": [
    "## Boucles \n",
    "Autre méthode d'avoir un code moins lourd, plus efficace et facile à changer : les boucles\n",
    "\n",
    "Elles permettent de répéter une action un certain nombre de fois.\n",
    "On va voir les deux boucles principales : for et while. "
   ]
  },
  {
   "cell_type": "markdown",
   "id": "ba126e31",
   "metadata": {},
   "source": [
    "La boucle for permet d'itérer à travers les éléments d'une liste\n",
    "Syntaxe Basique :  \n",
    "for élément in liste:  \n",
    "    action  \n",
    "\n",
    "par élément sera accessible l'objet de la liste à l'emplacement correspondant au nombre de boucles faites  \n",
    "(c'est pas clair mais ça va l'être)\n"
   ]
  },
  {
   "cell_type": "code",
   "execution_count": 18,
   "id": "48ea962d",
   "metadata": {},
   "outputs": [
    {
     "name": "stdout",
     "output_type": "stream",
     "text": [
      "bananes\n",
      "pommes\n",
      "mangue\n",
      "0\n",
      "1\n",
      "4\n",
      "9\n",
      "16\n",
      "25\n",
      "36\n",
      "49\n",
      "64\n",
      "81\n"
     ]
    }
   ],
   "source": [
    "# Par exemple :\n",
    "\n",
    "course = [\"bananes\", \"pommes\", \"mangue\"]\n",
    "\n",
    "for article in course:\n",
    "    print(article) \n",
    "\n",
    "#Cette boucle se répète : la première fois, elle prend le premier élément de la liste et effectue l'action, puis le suivant etc.\n",
    "\n",
    "# Les boucles for permettent aussi de répéter une action un nombre défini de fois avec range()\n",
    "\n",
    "for j in range(10): \n",
    "    print(j*j)\n",
    "    \n",
    "# range est juste une liste des nombres de 0 à 9\n",
    "\n",
    "# Syntaxe de range : range(numéro_de_début(inclus), numéro_de_fin(exclus), pas(l'écart)) ou bien juste range(numéro_de_fin)"
   ]
  },
  {
   "cell_type": "markdown",
   "id": "e99ab460",
   "metadata": {},
   "source": [
    "### Optionnel mais bon à savoir : les conditions et la boucle While\n",
    "\n",
    "On a vu qu'il existe un type de variable : les boolean : True et False  \n",
    "Ils permettent les conditions, avec notamment l'opérateur if (si):  \n",
    "\n",
    "if condition:  \n",
    "    fairequelquechose  \n",
    "\n",
    "ce quelquechose sera effectué uniquement si la condition est validée, sinon ça va juste le passer"
   ]
  },
  {
   "cell_type": "code",
   "execution_count": 20,
   "id": "2736d403",
   "metadata": {},
   "outputs": [],
   "source": [
    "#Exemple : \n",
    "\n",
    "x = 5\n",
    "if x == 6:\n",
    "    print(\"Le nombre est égal à 6\")\n",
    "    \n",
    "#Autre possibilité : mettre else ou elif\n",
    "\n",
    "if qqchose:\n",
    "    (...)\n",
    "elif autrechose : # C'est juste un if en plus\n",
    "    (...)\n",
    "else: # \"sinon\", c'est à dire si aucun des if ou elif n'est validé, on fait ça\n",
    "    (...)"
   ]
  },
  {
   "cell_type": "code",
   "execution_count": 21,
   "id": "91568534",
   "metadata": {},
   "outputs": [
    {
     "name": "stdout",
     "output_type": "stream",
     "text": [
      "Dans quelle ville se trouve la tour Eiffel ? : Mulhouse\n",
      "Dans quelle ville se trouve la tour Eiffel ? : Londres\n",
      "Dans quelle ville se trouve la tour Eiffel ? : Paris\n",
      "Bien joué !\n"
     ]
    }
   ],
   "source": [
    "# La boucle while permet d'effectuer une action tant qu'une condition est vraie\n",
    "\n",
    "réponse = \"\" #Variable de texte nulle\n",
    "\n",
    "while réponse != \"Paris\": # Tant que la variable réponse est différente de \"Paris\"\n",
    "    réponse = input(\"Dans quelle ville se trouve la tour Eiffel ? : \") # la fonction input demande une réponse à l'utilisateur\n",
    "\n",
    "print(\"Bien joué !\")\n",
    "# L'ordinateur va continuer de demander une réponse tant que la réponse sera différente de \"Paris\""
   ]
  },
  {
   "cell_type": "code",
   "execution_count": null,
   "id": "75aa256f",
   "metadata": {},
   "outputs": [],
   "source": []
  }
 ],
 "metadata": {
  "kernelspec": {
   "display_name": "Python 3",
   "language": "python",
   "name": "python3"
  },
  "language_info": {
   "codemirror_mode": {
    "name": "ipython",
    "version": 3
   },
   "file_extension": ".py",
   "mimetype": "text/x-python",
   "name": "python",
   "nbconvert_exporter": "python",
   "pygments_lexer": "ipython3",
   "version": "3.8.8"
  }
 },
 "nbformat": 4,
 "nbformat_minor": 5
}
