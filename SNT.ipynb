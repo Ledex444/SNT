{
 "cells": [
  {
   "cell_type": "markdown",
   "id": "401f781e",
   "metadata": {},
   "source": [
    "# Introduction au langage Python"
   ]
  },
  {
   "cell_type": "markdown",
   "id": "f86f9f40",
   "metadata": {},
   "source": [
    "Tout d'abord, Python est un langage informatique. L'ordinateur doit donc traiter les données, et il le fait **ligne après ligne**. Ce qui veut dire que **l'ordre** dans lequel on écrit notre programme est très important.\n",
    "Par exemple, utiliser une variable avant qu'elle soit créé retournera une erreur. "
   ]
  },
  {
   "cell_type": "markdown",
   "id": "70d95093",
   "metadata": {},
   "source": [
    "### Pour stocker des données et des informations on utilise des Variables, qui peuvent être de différents types :"
   ]
  },
  {
   "cell_type": "markdown",
   "id": "eff754d3",
   "metadata": {},
   "source": [
    "### On a des variables chiffrées :\n",
    "- Les integers (abréviés int) : les nombres entiers relatifs\n",
    "- les float : les nombres décimaux **séparés par un point et non une virgule**\n",
    "On peut aussi utiliser des nombres dans d'autres bases de calcul :\n",
    "- les nombres binaires (bin) : dans python, ils commencent par 0b\n",
    "- les nombres hexadécimaux (hex) : dans python, ils commencent par 0x\n",
    "\n",
    "#### On peut effectuer différentes opérations avec eux : \n",
    "addition +, soustraction -, multiplication * et division /  \n",
    "Mais aussi : la division euclidienne, avec les opérations // et %(modulo) :   \n",
    "    // renvoie le quotient  \n",
    "    % renvoie le reste  "
   ]
  },
  {
   "cell_type": "markdown",
   "id": "64fd7d78",
   "metadata": {},
   "source": [
    "Pour mieux comprendre les 2 derniers :  \n",
    "10 // 7 = 1 car le quotient de la division euclidienne de 10 par 7 est 1  \n",
    "5 % 2 = 1 car le reste de la division euclidienne de 5 par 2 est 1   \n",
    "\n",
    "Remarque : le cas avec 2 est utile pour déterminer la parité d'un nombre (en effet x%2 = 1 (x est impair) et x%2 = 0 (x est pair))"
   ]
  },
  {
   "cell_type": "markdown",
   "id": "1175bda1",
   "metadata": {},
   "source": [
    "Remarque : pour aller plus vite, pour ajouter un nombre à une variable déjà existante, on peut utiliser += et -=  \n",
    "Exemple : 3 += 5 = 8, on encore 4 -= 2 = 2"
   ]
  },
  {
   "cell_type": "markdown",
   "id": "0c766461",
   "metadata": {},
   "source": [
    "### Les Conditions\n",
    "Les ordinateurs fonctionnent sur de la logique, 0 ou 1, Faux ou Vrai, Eteint ou Allumé.\n",
    "Il est donc logique que cela se retranscrive dans python.   \n",
    "Il existe un type spécifique, les Boolean (bool), qui peuvent prendre uniquement deux valeurs : True et False  \n",
    "Ce type est retourné par des opérations logiques (de comparaisons) comme < ; > ; <= ; >= ; ==   \n",
    "Note : l'opérateur == est à différencier du = simple, en effet l'un est une comparaison, l'autre une appropriation (cela peut causer des erreurs)  \n",
    "\n",
    "On verra plus tard toutes les opérations logiques de Python"
   ]
  },
  {
   "cell_type": "markdown",
   "id": "c77ea3b3",
   "metadata": {},
   "source": [
    "### String\n",
    "Autre type clé dans python : le texte, appelé string (str), les chaînes de caractères.  \n",
    "Les variables de textes sont notées entre apostrophes (simples ou doubles, mais les **mêmes** des deux côtés)  \n",
    "Exemples : \"Bonjour, comment allez vous ?\" ; \"Paris\" ; \"sqdq64v6d545s8qb9q\", \"voilà\"  \n",
    "Remarque : \"18\" et 18 n'est pas la même chose, \"18\" est du texte et 18 un entier, donc faire \"18\" + 5 ne marchera pas , c'est comme si vous faisiez \"lycée\"+5\n"
   ]
  },
  {
   "cell_type": "markdown",
   "id": "b51ee814",
   "metadata": {},
   "source": [
    "### Listes et dictionnaires\n",
    "Stocker plusieurs données dans une variable en python :  \n",
    "les listes (list) , se notent entre crochets : []  "
   ]
  },
  {
   "cell_type": "code",
   "execution_count": null,
   "id": "b87cb005",
   "metadata": {},
   "outputs": [],
   "source": [
    "#Exemple :\n",
    "[\"lait\", \"salade\", \"tomates\"] ou [58, 457.23, 777777] ou encore [\"OSKOUR\", 557, [\"une liste dans une liste\"]]\n",
    "# NB : une liste vide se note []"
   ]
  },
  {
   "cell_type": "markdown",
   "id": "877de66f",
   "metadata": {},
   "source": [
    "Les éléments d'une liste ont un **index** qui leur est associé, le premier élément étant d'index 0, puis 1, puis 2 etc.  \n",
    "Pour accéder à un élément d'index i, on utilise la syntaxe : liste[i]  \n",
    "On peut aussi sélectionner des sections : liste[départ : arrivée] arrivée non incluse"
   ]
  },
  {
   "cell_type": "code",
   "execution_count": null,
   "id": "fac579ed",
   "metadata": {},
   "outputs": [],
   "source": [
    "#Exemple :\n",
    "ma_liste = [\"salade\", \"tomate\", \"onions\"]\n",
    "ma_liste[1] # c'est \"tomate\"\n",
    "ma_liste[0:2] # c'est [\"salade\", \"tomate\"]"
   ]
  },
  {
   "cell_type": "markdown",
   "id": "09119bc1",
   "metadata": {},
   "source": [
    "La où une liste est ordonnée par index, un dictionnaire (dict) ne l'est pas.  \n",
    "En effet, les données sont stockées sous formes de paires clé : valeur, par exemple un mot et sa définition, ou un article et sa quantité, une ville et ses caractéristiques, etc.  \n",
    "On notes les dictionnaires entre accolades : {}\n",
    "Exemple : {\"France\" : \"Paris\", \"Angleterre\" : \"Londres\", \"Allemagne\" : \"Berlin\"}   \n",
    "NB : les données peuvent être de types variés et différents  \n",
    "NB* : C'est le format **JSON**  \n",
    "On accéde à une valeur par sa clé : dico[\"clé\"] retourne la valeur associée à cette clé\n"
   ]
  },
  {
   "cell_type": "code",
   "execution_count": 3,
   "id": "bd776188",
   "metadata": {},
   "outputs": [
    {
     "data": {
      "text/plain": [
       "5"
      ]
     },
     "execution_count": 3,
     "metadata": {},
     "output_type": "execute_result"
    }
   ],
   "source": [
    "#Exemple :\n",
    "mon_dico = {\"pommes\" : 5, \"bananes\" : 8, \"poires\" : 6}\n",
    "mon_dico[\"pommes\"] # retournera 5"
   ]
  },
  {
   "cell_type": "markdown",
   "id": "f8b2c0d5",
   "metadata": {},
   "source": [
    "# Le reste à venir ..."
   ]
  }
 ],
 "metadata": {
  "kernelspec": {
   "display_name": "Python 3",
   "language": "python",
   "name": "python3"
  },
  "language_info": {
   "codemirror_mode": {
    "name": "ipython",
    "version": 3
   },
   "file_extension": ".py",
   "mimetype": "text/x-python",
   "name": "python",
   "nbconvert_exporter": "python",
   "pygments_lexer": "ipython3",
   "version": "3.8.8"
  }
 },
 "nbformat": 4,
 "nbformat_minor": 5
}
